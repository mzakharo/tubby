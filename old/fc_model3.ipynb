version https://git-lfs.github.com/spec/v1
oid sha256:86712fd6c0b6a8e0ba37da3cb53f9b7583edd6b8c9c0ef00c9a9e220d749c458
size 960763
