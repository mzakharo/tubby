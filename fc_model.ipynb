version https://git-lfs.github.com/spec/v1
oid sha256:9fb18a137b70622ded68055bc4890713e2cd27a6899776b70991099110d4c58a
size 462158
