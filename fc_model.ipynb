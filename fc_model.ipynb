version https://git-lfs.github.com/spec/v1
oid sha256:a8e12e18dbffa14b36741f0df83bfda7126c4807a4ab3fb717fe8de11fdf31fe
size 467373
