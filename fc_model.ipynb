{
 "cells": [
  {
   "cell_type": "code",
   "execution_count": 1,
   "id": "c864213b",
   "metadata": {},
   "outputs": [
    {
     "name": "stdout",
     "output_type": "stream",
     "text": [
      "2.11.0\n"
     ]
    }
   ],
   "source": [
    "import numpy as np\n",
    "import pandas as pd\n",
    "import sys\n",
    "import matplotlib.pyplot as plt\n",
    "import seaborn as sns\n",
    "import tensorflow as tf\n",
    "from tensorflow import keras\n",
    "from tensorflow.keras import layers\n",
    "from livelossplot import PlotLossesKeras\n",
    "import lmfit\n",
    "\n",
    "TARGET = 'fc'\n",
    "\n",
    "print(tf.__version__)\n",
    "np.set_printoptions(precision=3, suppress=True)"
   ]
  },
  {
   "cell_type": "code",
   "execution_count": 2,
   "id": "d1ee320d",
   "metadata": {},
   "outputs": [
    {
     "name": "stdout",
     "output_type": "stream",
     "text": [
      "    6.9    7  7.2  7.3  7.4  7.5  7.6  7.7  7.8  7.9    8  8.1  8.2  ppm CL   \n",
      "0   507  505  502  500  499  497  496  494  493  491  490  488  487    0.20  \\\n",
      "1   561  558  553  550  548  546  544  541  539  536  534  532  529    0.30   \n",
      "2   599  596  590  586  583  580  577  574  571  568  565  562  559    0.40   \n",
      "3   629  625  618  615  611  607  604  600  597  593  590  586  583    0.50   \n",
      "4   652  648  640  637  632  629  625  621  617  613  610  605  602    0.60   \n",
      "5   663  658  650  646  642  638  634  630  626  622  618  614  610    0.65   \n",
      "6   673  669  660  656  651  647  643  639  635  630  626  622  618    0.67   \n",
      "7   682  677  668  664  660  655  651  647  642  638  634  629  625    0.75   \n",
      "8   690  686  677  672  668  663  659  654  650  645  641  636  632    0.80   \n",
      "9   698  694  684  680  675  670  666  661  657  652  647  643  638    0.85   \n",
      "10  706  702  692  687  682  677  673  668  663  658  654  649  644    0.90   \n",
      "11  713  708  698  694  689  684  679  674  669  664  659  654  650    0.95   \n",
      "12  720  715  705  700  695  690  685  680  675  670  665  660  655    1.00   \n",
      "13  733  727  717  712  707  701  696  691  686  680  675  670  665    1.10   \n",
      "14  744  739  728  722  717  712  706  701  695  690  685  679  674    1.20   \n",
      "15  755  749  738  732  727  721  716  710  705  699  694  688  682    1.30   \n",
      "16  765  759  747  742  736  730  724  719  713  707  702  696  690    1.40   \n",
      "17  774  768  756  750  744  738  732  727  721  715  709  703  697    1.50   \n",
      "18  790  784  771  765  759  753  747  741  735  728  722  716  710    1.70   \n",
      "19  798  792  779  773  766  760  754  748  741  735  729  722  716    1.80   \n",
      "20  812  805  792  785  779  773  766  760  753  747  740  734  727    2.00   \n",
      "21  824  818  804  797  781  784  777  771  764  757  751  744  737    2.20   \n",
      "22  841  834  826  813  806  800  792  785  771  771  764  757  751    2.50   \n",
      "\n",
      "       bro  \n",
      "0   0.4500  \n",
      "1   0.6750  \n",
      "2   0.9000  \n",
      "3   1.1250  \n",
      "4   1.3500  \n",
      "5   1.4625  \n",
      "6   1.5075  \n",
      "7   1.6875  \n",
      "8   1.8000  \n",
      "9   1.9125  \n",
      "10  2.0250  \n",
      "11  2.1375  \n",
      "12  2.2500  \n",
      "13  2.4750  \n",
      "14  2.7000  \n",
      "15  2.9250  \n",
      "16  3.1500  \n",
      "17  3.3750  \n",
      "18  3.8250  \n",
      "19  4.0500  \n",
      "20  4.5000  \n",
      "21  4.9500  \n",
      "22  5.6250  \n"
     ]
    }
   ],
   "source": [
    "#Data from https://jenfitch.com/free-chlorine-orpmv-vs-ph-new/\n",
    "df = pd.read_csv('https://raw.githubusercontent.com/mzakharo/micropython/tubby/ports/esp32/orp.csv')\n",
    "df_orig = df.copy()\n",
    "df['bro'] = df['ppm CL'] * 2.25\n",
    "\n",
    "print(df)\n",
    "labels = df_orig.pop('ppm CL')\n",
    "\n",
    "vs = []\n",
    "for column in df_orig:\n",
    "    vals= df_orig[column].to_numpy()\n",
    "    c = float(column)\n",
    "    for i, v in enumerate(vals):\n",
    "        vs.append((v, c, labels[i]))\n",
    "dataset_orig = pd.DataFrame(vs, columns= ('orp', 'ph', 'fc'))"
   ]
  },
  {
   "cell_type": "code",
   "execution_count": 4,
   "id": "7784db60",
   "metadata": {},
   "outputs": [
    {
     "data": {
      "text/plain": [
       "dict_keys(['6.9', '7', '7.2', '7.3', '7.4', '7.5', '7.6', '7.7', '7.8', '7.9', '8', '8.1', '8.2'])"
      ]
     },
     "execution_count": 4,
     "metadata": {},
     "output_type": "execute_result"
    }
   ],
   "source": [
    "models = {}\n",
    "for ph in df_orig.columns:\n",
    "    if ph == 'ppm CL':\n",
    "        continue      \n",
    "    xdata =df[str(ph)].to_numpy()\n",
    "    ydata = df['ppm CL'].to_numpy()\n",
    "    lmodel = lmfit.models.ExponentialModel()\n",
    "    params = lmodel.guess(ydata, x=xdata)\n",
    "    fit = lmodel.fit(ydata, params, x=xdata)    \n",
    "    models[str(ph)] = fit\n",
    "    #print(fit.fit_report())\n",
    "    #fit.plot_fit(title=str(ph))\n",
    "    #fit.eval(x=p0)\n",
    "models.keys()"
   ]
  },
  {
   "cell_type": "code",
   "execution_count": 5,
   "id": "e076bf79",
   "metadata": {},
   "outputs": [
    {
     "data": {
      "text/html": [
       "<div>\n",
       "<style scoped>\n",
       "    .dataframe tbody tr th:only-of-type {\n",
       "        vertical-align: middle;\n",
       "    }\n",
       "\n",
       "    .dataframe tbody tr th {\n",
       "        vertical-align: top;\n",
       "    }\n",
       "\n",
       "    .dataframe thead th {\n",
       "        text-align: right;\n",
       "    }\n",
       "</style>\n",
       "<table border=\"1\" class=\"dataframe\">\n",
       "  <thead>\n",
       "    <tr style=\"text-align: right;\">\n",
       "      <th></th>\n",
       "      <th>orp</th>\n",
       "      <th>ph</th>\n",
       "      <th>fc</th>\n",
       "    </tr>\n",
       "  </thead>\n",
       "  <tbody>\n",
       "    <tr>\n",
       "      <th>count</th>\n",
       "      <td>10400.000000</td>\n",
       "      <td>10400.000000</td>\n",
       "      <td>10400.000000</td>\n",
       "    </tr>\n",
       "    <tr>\n",
       "      <th>mean</th>\n",
       "      <td>599.500000</td>\n",
       "      <td>7.584615</td>\n",
       "      <td>2.283373</td>\n",
       "    </tr>\n",
       "    <tr>\n",
       "      <th>std</th>\n",
       "      <td>230.951031</td>\n",
       "      <td>0.397794</td>\n",
       "      <td>3.888384</td>\n",
       "    </tr>\n",
       "    <tr>\n",
       "      <th>min</th>\n",
       "      <td>200.000000</td>\n",
       "      <td>6.900000</td>\n",
       "      <td>0.012602</td>\n",
       "    </tr>\n",
       "    <tr>\n",
       "      <th>25%</th>\n",
       "      <td>399.750000</td>\n",
       "      <td>7.300000</td>\n",
       "      <td>0.086643</td>\n",
       "    </tr>\n",
       "    <tr>\n",
       "      <th>50%</th>\n",
       "      <td>599.500000</td>\n",
       "      <td>7.600000</td>\n",
       "      <td>0.478250</td>\n",
       "    </tr>\n",
       "    <tr>\n",
       "      <th>75%</th>\n",
       "      <td>799.250000</td>\n",
       "      <td>7.900000</td>\n",
       "      <td>2.637453</td>\n",
       "    </tr>\n",
       "    <tr>\n",
       "      <th>max</th>\n",
       "      <td>999.000000</td>\n",
       "      <td>8.200000</td>\n",
       "      <td>27.248869</td>\n",
       "    </tr>\n",
       "  </tbody>\n",
       "</table>\n",
       "</div>"
      ],
      "text/plain": [
       "                orp            ph            fc\n",
       "count  10400.000000  10400.000000  10400.000000\n",
       "mean     599.500000      7.584615      2.283373\n",
       "std      230.951031      0.397794      3.888384\n",
       "min      200.000000      6.900000      0.012602\n",
       "25%      399.750000      7.300000      0.086643\n",
       "50%      599.500000      7.600000      0.478250\n",
       "75%      799.250000      7.900000      2.637453\n",
       "max      999.000000      8.200000     27.248869"
      ]
     },
     "execution_count": 5,
     "metadata": {},
     "output_type": "execute_result"
    }
   ],
   "source": [
    "vs = []\n",
    "for ph, fit in models.items():\n",
    "    for orp in range(200, 1000):\n",
    "        fc = fit.eval(x=orp)        \n",
    "        vs.append((orp, float(ph), fc))\n",
    "dataset = pd.DataFrame(vs, columns= ('orp', 'ph', 'fc'))\n",
    "dataset.describe()"
   ]
  },
  {
   "cell_type": "code",
   "execution_count": 8,
   "id": "50058680",
   "metadata": {},
   "outputs": [
    {
     "name": "stdout",
     "output_type": "stream",
     "text": [
      "           mean         std\n",
      "orp  600.900841  230.682505\n",
      "ph     7.585325    0.398733\n",
      "fc     2.301799    3.925100\n"
     ]
    }
   ],
   "source": [
    "train_dataset = dataset.sample(frac=0.8)#, random_state=0)\n",
    "test_dataset = dataset.drop(train_dataset.index) #dataset_orig # dataset.drop(train_dataset.index)\n",
    "\n",
    "train_features = train_dataset.copy()\n",
    "train_labels = train_features.pop(TARGET)\n",
    "\n",
    "test_features = test_dataset.copy()\n",
    "test_labels = test_features.pop(TARGET)\n",
    "\n",
    "print(train_dataset.describe().transpose()[['mean', 'std']])\n",
    "#sns.pairplot(train_dataset, diag_kind='kde')\n",
    "\n",
    "inorm = tf.keras.layers.Normalization(axis=-1, input_shape=[2, ])\n",
    "inorm.adapt(np.array(train_features))\n",
    "onorm = tf.keras.layers.Normalization(axis=-1, invert=True)\n",
    "onorm.adapt(train_labels)"
   ]
  },
  {
   "cell_type": "code",
   "execution_count": 346,
   "id": "96f53c66",
   "metadata": {},
   "outputs": [
    {
     "name": "stdout",
     "output_type": "stream",
     "text": [
      "Model: \"sequential_64\"\n",
      "_________________________________________________________________\n",
      " Layer (type)                Output Shape              Param #   \n",
      "=================================================================\n",
      " normalization_38 (Normaliza  (None, 2)                5         \n",
      " tion)                                                           \n",
      "                                                                 \n",
      " dense_181 (Dense)           (None, 8)                 24        \n",
      "                                                                 \n",
      " dense_182 (Dense)           (None, 4)                 36        \n",
      "                                                                 \n",
      " dense_183 (Dense)           (None, 1)                 5         \n",
      "                                                                 \n",
      " normalization_39 (Normaliza  (None, 1)                3         \n",
      " tion)                                                           \n",
      "                                                                 \n",
      "=================================================================\n",
      "Total params: 73\n",
      "Trainable params: 65\n",
      "Non-trainable params: 8\n",
      "_________________________________________________________________\n"
     ]
    }
   ],
   "source": [
    "checkpoint_filepath = 'checkpoint.h5'\n",
    "model_checkpoint_callback = tf.keras.callbacks.ModelCheckpoint(\n",
    "    filepath=checkpoint_filepath,\n",
    "    monitor='val_loss',\n",
    "    mode='min',\n",
    "    save_best_only=True)\n",
    "\n",
    "def build_and_compile_model(inorm, onorm):\n",
    "  model = keras.Sequential([\n",
    "      inorm,\n",
    "      layers.Dense(8, activation='elu'),\n",
    "      layers.Dense(4, activation='elu'),\n",
    "      layers.Dense(1), \n",
    "      onorm,\n",
    "  ])\n",
    "  model.compile(loss='mean_squared_error', optimizer='adam')\n",
    "  return model\n",
    "model = build_and_compile_model(inorm, onorm)\n",
    "model.summary()"
   ]
  },
  {
   "cell_type": "code",
   "execution_count": 347,
   "id": "3add1915",
   "metadata": {},
   "outputs": [
    {
     "data": {
      "image/png": "[encoded data removed]",
      "text/plain": [
       "<Figure size 1200x800 with 2 Axes>"
      ]
     },
     "metadata": {},
     "output_type": "display_data"
    },
    {
     "name": "stdout",
     "output_type": "stream",
     "text": [
      "Loss\n",
      "\ttraining         \t (min:    0.013, max:    8.817, cur:    0.013)\n",
      "\tvalidation       \t (min:    0.009, max:    5.632, cur:    0.009)\n",
      "208/208 [==============================] - 1s 3ms/step - loss: 0.0133 - val_loss: 0.0094\n",
      "mse: 0.008476335555315018\n"
     ]
    }
   ],
   "source": [
    "history = model.fit(\n",
    "    train_features,\n",
    "    train_labels,\n",
    "    validation_split=0.2,\n",
    "    verbose=1, epochs=100, callbacks=[PlotLossesKeras(), model_checkpoint_callback])\n",
    "print('mse:', model.evaluate(test_features, test_labels, verbose=0))"
   ]
  },
  {
   "cell_type": "code",
   "execution_count": 9,
   "id": "16db75e9",
   "metadata": {},
   "outputs": [
    {
     "data": {
      "text/plain": [
       "<Axes: xlabel='fc'>"
      ]
     },
     "execution_count": 9,
     "metadata": {},
     "output_type": "execute_result"
    },
    {
     "data": {
      "image/png": "[encoded data removed]",
      "text/plain": [
       "<Figure size 640x480 with 1 Axes>"
      ]
     },
     "metadata": {},
     "output_type": "display_data"
    }
   ],
   "source": [
    "fmodel = checkpoint_filepath\n",
    "#fmodel = 'model_fc.h5'\n",
    "\n",
    "model = keras.models.load_model(fmodel, compile=False)\n",
    "model.layers[-1].invert = True #Bug in Keras https://github.com/keras-team/keras/issues/17556\n",
    "\n",
    "\n",
    "y = model.predict(test_features, verbose=0)\n",
    "y = pd.DataFrame(y)[0]\n",
    "sns.scatterplot(x=test_labels, y=y.to_numpy(), alpha=0.7)"
   ]
  },
  {
   "cell_type": "code",
   "execution_count": 352,
   "id": "411d2636",
   "metadata": {},
   "outputs": [
    {
     "name": "stdout",
     "output_type": "stream",
     "text": [
      "WARNING:tensorflow:Compiled the loaded model, but the compiled metrics have yet to be built. `model.compile_metrics` will be empty until you train or evaluate the model.\n"
     ]
    },
    {
     "name": "stderr",
     "output_type": "stream",
     "text": [
      "WARNING:tensorflow:Compiled the loaded model, but the compiled metrics have yet to be built. `model.compile_metrics` will be empty until you train or evaluate the model.\n"
     ]
    },
    {
     "name": "stdout",
     "output_type": "stream",
     "text": [
      "INFO:tensorflow:Assets written to: C:\\Users\\user\\AppData\\Local\\Temp\\tmpfjzgrhqo\\assets\n"
     ]
    },
    {
     "name": "stderr",
     "output_type": "stream",
     "text": [
      "INFO:tensorflow:Assets written to: C:\\Users\\user\\AppData\\Local\\Temp\\tmpfjzgrhqo\\assets\n"
     ]
    },
    {
     "name": "stdout",
     "output_type": "stream",
     "text": [
      "done\n"
     ]
    }
   ],
   "source": [
    "model.save(f'model_{TARGET}.h5')\n",
    "converter = tf.lite.TFLiteConverter.from_keras_model(model)\n",
    "tflite_model = converter.convert()\n",
    "with open(f'model_{TARGET}.tflite', \"wb\") as f:\n",
    "  f.write(tflite_model)\n",
    "print('done')"
   ]
  },
  {
   "cell_type": "code",
   "execution_count": 39,
   "id": "aef9a69d",
   "metadata": {},
   "outputs": [],
   "source": [
    "#model from \n",
    "\n",
    "def rasppool_convert(orp_mean, ph_mean):\n",
    "  # Some example values:\n",
    "  e_fc_adjust = 0;\t# FC Adjustment in percentage\n",
    "  e_fc = round( 0.23 * (1 - e_fc_adjust) * (14 - ph_mean) ** (1/(400 - orp_mean))*(ph_mean - 4.1) ** ( (orp_mean - 516)/145) + 10.0 ** ( (orp_mean + ph_mean * 70 - 1282 ) / 40 ), 1 );\n",
    "  return e_fc"
   ]
  },
  {
   "cell_type": "code",
   "execution_count": 33,
   "id": "8432982c",
   "metadata": {},
   "outputs": [],
   "source": [
    "def rasppool_predict(df):\n",
    "    return [rasppool_convert(v[0], v[1]) for v in df.to_numpy()]       "
   ]
  },
  {
   "cell_type": "code",
   "execution_count": 37,
   "id": "1de5dedd",
   "metadata": {},
   "outputs": [
    {
     "name": "stdout",
     "output_type": "stream",
     "text": [
      "629 7.76\n",
      "output:  0.6647371 2.6456584870815276\n"
     ]
    }
   ],
   "source": [
    "p0 = 629\n",
    "p1 = 7.76\n",
    "print(p0, p1)\n",
    "v = model.predict([(p0, p1)], verbose=0)[0][0]\n",
    "print('output: ', v, v*2.25 + LAB_OFFSET)"
   ]
  },
  {
   "cell_type": "code",
   "execution_count": 45,
   "id": "059f5835",
   "metadata": {},
   "outputs": [
    {
     "name": "stdout",
     "output_type": "stream",
     "text": [
      "    7.5  ppm CL   ph      pred  rasp\n",
      "0   497    0.20  7.5  0.183565   0.2\n",
      "1   546    0.30  7.5  0.285672   0.3\n",
      "2   580    0.40  7.5  0.386524   0.4\n",
      "3   607    0.50  7.5  0.491075   0.5\n",
      "4   629    0.60  7.5  0.597310   0.6\n",
      "5   638    0.65  7.5  0.647423   0.6\n",
      "6   647    0.67  7.5  0.702000   0.7\n",
      "7   655    0.75  7.5  0.754645   0.7\n",
      "8   663    0.80  7.5  0.811065   0.8\n",
      "9   670    0.85  7.5  0.862649   0.8\n",
      "10  677    0.90  7.5  0.916423   0.9\n",
      "11  684    0.95  7.5  0.972575   1.0\n",
      "12  690    1.00  7.5  1.022750   1.0\n",
      "13  701    1.10  7.5  1.120114   1.1\n",
      "14  712    1.20  7.5  1.225206   1.3\n",
      "15  721    1.30  7.5  1.317638   1.4\n",
      "16  730    1.40  7.5  1.416518   1.6\n",
      "17  738    1.50  7.5  1.510359   1.8\n",
      "18  753    1.70  7.5  1.703256   2.5\n",
      "19  760    1.80  7.5  1.801696   3.0\n",
      "20  773    2.00  7.5  2.000621   4.5\n",
      "21  784    2.20  7.5  2.187229   6.9\n",
      "22  800    2.50  7.5  2.493225  14.4\n"
     ]
    },
    {
     "data": {
      "image/png": "[encoded data removed]",
      "text/plain": [
       "<Figure size 640x480 with 1 Axes>"
      ]
     },
     "metadata": {},
     "output_type": "display_data"
    }
   ],
   "source": [
    "ph = 7.5\n",
    "\n",
    "x = df[[str(ph),  'ppm CL']]\n",
    "x = x.assign(ph=ph)\n",
    "#new_row = {str(ph) : p0, 'ppm CL': 3, 'ph' : ph}\n",
    "#x.loc[len(df.index)] = [p0, models[str(ph)].eval(x=p0), ph] \n",
    "\n",
    "x['pred'] = model.predict(x[[str(ph), 'ph']], verbose=0)\n",
    "x['rasp'] = rasppool_predict(x[[str(ph), 'ph']])\n",
    "\n",
    "print(x)\n",
    "x.plot(x=str(ph), y=[\"ppm CL\", \"pred\"]);"
   ]
  },
  {
   "cell_type": "code",
   "execution_count": 44,
   "id": "e8f7a5de",
   "metadata": {},
   "outputs": [
    {
     "name": "stdout",
     "output_type": "stream",
     "text": [
      "    8.2   ph      pred  rasp\n",
      "0   487  8.5  0.037617   0.2\n",
      "1   529  8.5  0.157362   0.3\n",
      "2   559  8.5  0.288819   0.4\n",
      "3   583  8.5  0.431090   0.5\n",
      "4   602  8.5  0.573518   0.6\n",
      "5   610  8.5  0.642891   0.6\n",
      "6   618  8.5  0.718588   0.7\n",
      "7   625  8.5  0.790482   0.7\n",
      "8   632  8.5  0.867201   0.8\n",
      "9   638  8.5  0.936116   0.9\n",
      "10  644  8.5  1.008144   0.9\n",
      "11  650  8.5  1.083487   1.0\n",
      "12  655  8.5  1.148966   1.1\n",
      "13  665  8.5  1.287837   1.3\n",
      "14  674  8.5  1.422653   1.6\n",
      "15  682  8.5  1.551107   2.0\n",
      "16  690  8.5  1.688590   2.5\n",
      "17  697  8.5  1.817218   3.2\n",
      "18  710  8.5  2.079036   5.4\n",
      "19  716  8.5  2.210969   7.1\n",
      "20  727  8.5  2.473249  12.0\n",
      "21  737  8.5  2.737148  20.0\n",
      "22  751  8.5  3.152890  42.3\n"
     ]
    },
    {
     "data": {
      "image/png": "[encoded data removed]",
      "text/plain": [
       "<Figure size 640x480 with 1 Axes>"
      ]
     },
     "metadata": {},
     "output_type": "display_data"
    }
   ],
   "source": [
    "ph = 8.5\n",
    "ph_last  = 8.2\n",
    "\n",
    "x = df[[str(ph_last)]]\n",
    "x = x.assign(ph=ph)\n",
    "x['pred'] =  model.predict(x[[str(ph_last), 'ph']], verbose=0)\n",
    "x['rasp'] =  rasppool_predict(x[[str(ph_last), 'ph']])\n",
    "\n",
    "print(x)\n",
    "x.plot(x=str(ph_last), y=[\"pred\"]);"
   ]
  },
  {
   "cell_type": "code",
   "execution_count": null,
   "id": "21be9020",
   "metadata": {},
   "outputs": [],
   "source": []
  }
 ],
 "metadata": {
  "kernelspec": {
   "display_name": "Python 3 (ipykernel)",
   "language": "python",
   "name": "python3"
  },
  "language_info": {
   "codemirror_mode": {
    "name": "ipython",
    "version": 3
   },
   "file_extension": ".py",
   "mimetype": "text/x-python",
   "name": "python",
   "nbconvert_exporter": "python",
   "pygments_lexer": "ipython3",
   "version": "3.10.10"
  }
 },
 "nbformat": 4,
 "nbformat_minor": 5
}
