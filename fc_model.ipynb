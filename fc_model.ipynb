version https://git-lfs.github.com/spec/v1
oid sha256:85e9abf5bf3924b4c87b47e0c9bbd3d8dceb737b58d1a15c41ed15884fa2596e
size 516550
