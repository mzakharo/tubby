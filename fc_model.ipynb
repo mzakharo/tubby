version https://git-lfs.github.com/spec/v1
oid sha256:af3a5626d9432e82e699548fd7c2ab4380a3470831bb4b99245ef617ac1aa937
size 463337
